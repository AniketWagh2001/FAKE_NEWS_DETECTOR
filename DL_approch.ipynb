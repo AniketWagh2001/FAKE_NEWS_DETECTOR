{
 "cells": [
  {
   "cell_type": "code",
   "execution_count": 1,
   "id": "2e0b444e",
   "metadata": {},
   "outputs": [],
   "source": [
    "import pandas as pd \n",
    "import numpy as np \n",
    "import tensorflow as tf \n",
    "import matplotlib.pyplot as plt \n",
    "import re\n",
    "from sklearn.model_selection import train_test_split\n",
    "from keras.preprocessing.text import Tokenizer\n",
    "from keras.models import Sequential, load_model\n",
    "from keras.layers import Dense, LSTM, Embedding, Dropout\n",
    "from keras.preprocessing.sequence import pad_sequences"
   ]
  },
  {
   "cell_type": "code",
   "execution_count": 2,
   "id": "1ab4461a",
   "metadata": {},
   "outputs": [],
   "source": [
    "df = pd.read_csv('pro_news_classifier.csv')"
   ]
  },
  {
   "cell_type": "code",
   "execution_count": 3,
   "id": "c17c6338",
   "metadata": {},
   "outputs": [
    {
     "data": {
      "text/html": [
       "<div>\n",
       "<style scoped>\n",
       "    .dataframe tbody tr th:only-of-type {\n",
       "        vertical-align: middle;\n",
       "    }\n",
       "\n",
       "    .dataframe tbody tr th {\n",
       "        vertical-align: top;\n",
       "    }\n",
       "\n",
       "    .dataframe thead th {\n",
       "        text-align: right;\n",
       "    }\n",
       "</style>\n",
       "<table border=\"1\" class=\"dataframe\">\n",
       "  <thead>\n",
       "    <tr style=\"text-align: right;\">\n",
       "      <th></th>\n",
       "      <th>Unnamed: 0</th>\n",
       "      <th>title</th>\n",
       "      <th>class</th>\n",
       "    </tr>\n",
       "  </thead>\n",
       "  <tbody>\n",
       "    <tr>\n",
       "      <th>0</th>\n",
       "      <td>2626</td>\n",
       "      <td>Trump Loses His Sh*t After Nordstrom Stops Pe...</td>\n",
       "      <td>0</td>\n",
       "    </tr>\n",
       "    <tr>\n",
       "      <th>1</th>\n",
       "      <td>13622</td>\n",
       "      <td>South Korea's Moon says North Korea missile ca...</td>\n",
       "      <td>1</td>\n",
       "    </tr>\n",
       "    <tr>\n",
       "      <th>2</th>\n",
       "      <td>20256</td>\n",
       "      <td>Hezbollah declares Syria victory, Russia says ...</td>\n",
       "      <td>1</td>\n",
       "    </tr>\n",
       "    <tr>\n",
       "      <th>3</th>\n",
       "      <td>11503</td>\n",
       "      <td>Two Palestinians killed in anti-US protests af...</td>\n",
       "      <td>1</td>\n",
       "    </tr>\n",
       "    <tr>\n",
       "      <th>4</th>\n",
       "      <td>14276</td>\n",
       "      <td>HUCKABEE : ‘Hillary Is In for the Ride of Her ...</td>\n",
       "      <td>0</td>\n",
       "    </tr>\n",
       "  </tbody>\n",
       "</table>\n",
       "</div>"
      ],
      "text/plain": [
       "   Unnamed: 0                                              title  class\n",
       "0        2626   Trump Loses His Sh*t After Nordstrom Stops Pe...      0\n",
       "1       13622  South Korea's Moon says North Korea missile ca...      1\n",
       "2       20256  Hezbollah declares Syria victory, Russia says ...      1\n",
       "3       11503  Two Palestinians killed in anti-US protests af...      1\n",
       "4       14276  HUCKABEE : ‘Hillary Is In for the Ride of Her ...      0"
      ]
     },
     "execution_count": 3,
     "metadata": {},
     "output_type": "execute_result"
    }
   ],
   "source": [
    "df.head()"
   ]
  },
  {
   "cell_type": "code",
   "execution_count": 4,
   "id": "e1141363",
   "metadata": {},
   "outputs": [],
   "source": [
    "df = df.drop(['Unnamed: 0'], axis=1)"
   ]
  },
  {
   "cell_type": "code",
   "execution_count": 58,
   "id": "16e6dea6",
   "metadata": {},
   "outputs": [
    {
     "data": {
      "text/plain": [
       "'south koreas moon says north korea missile capability seems improved'"
      ]
     },
     "execution_count": 58,
     "metadata": {},
     "output_type": "execute_result"
    }
   ],
   "source": [
    "df['title'][1]"
   ]
  },
  {
   "cell_type": "code",
   "execution_count": 163,
   "id": "5349a152",
   "metadata": {},
   "outputs": [
    {
     "data": {
      "text/plain": [
       "'trump loses his sht after nordstrom stops peddling ivankas shtty product line'"
      ]
     },
     "execution_count": 163,
     "metadata": {},
     "output_type": "execute_result"
    }
   ],
   "source": [
    "df['title'][0]"
   ]
  },
  {
   "cell_type": "code",
   "execution_count": 5,
   "id": "695a34a6",
   "metadata": {},
   "outputs": [
    {
     "data": {
      "text/plain": [
       "title    0\n",
       "class    0\n",
       "dtype: int64"
      ]
     },
     "execution_count": 5,
     "metadata": {},
     "output_type": "execute_result"
    }
   ],
   "source": [
    "df.isnull().sum()"
   ]
  },
  {
   "cell_type": "code",
   "execution_count": 6,
   "id": "b9adf6f3",
   "metadata": {},
   "outputs": [
    {
     "data": {
      "text/plain": [
       "title    object\n",
       "class     int64\n",
       "dtype: object"
      ]
     },
     "execution_count": 6,
     "metadata": {},
     "output_type": "execute_result"
    }
   ],
   "source": [
    "df.dtypes"
   ]
  },
  {
   "cell_type": "code",
   "execution_count": 7,
   "id": "c30585ac",
   "metadata": {},
   "outputs": [],
   "source": [
    "import preprocess_kgptalkie as ps\n",
    "def get_clean(x):\n",
    "    x = str(x).lower().replace('\\\\', '').replace('_', ' ')\n",
    "    x = ps.cont_exp(x)\n",
    "    x = ps.remove_emails(x)\n",
    "    x = ps.remove_urls(x)\n",
    "    x = ps.remove_rt(x)\n",
    "    x = ps.remove_accented_chars(x)\n",
    "    x = ps.remove_special_chars(x)\n",
    "    x = re.sub(\"(.)\\\\1{2,}\", \"\\\\1\", x)\n",
    "    return x"
   ]
  },
  {
   "cell_type": "code",
   "execution_count": 8,
   "id": "e341ad9a",
   "metadata": {},
   "outputs": [],
   "source": [
    "df['title']=df['title'].apply(lambda x: get_clean(x))"
   ]
  },
  {
   "cell_type": "code",
   "execution_count": 9,
   "id": "7ec06e6d",
   "metadata": {},
   "outputs": [],
   "source": [
    "tokenizer = Tokenizer(num_words=5000, split=\" \")"
   ]
  },
  {
   "cell_type": "code",
   "execution_count": 10,
   "id": "6043e5cc",
   "metadata": {},
   "outputs": [],
   "source": [
    "tokenizer.fit_on_texts(df['title'].values)"
   ]
  },
  {
   "cell_type": "code",
   "execution_count": 11,
   "id": "79aca0f4",
   "metadata": {},
   "outputs": [],
   "source": [
    "X = tokenizer.texts_to_sequences(df['title'].values)"
   ]
  },
  {
   "cell_type": "code",
   "execution_count": 12,
   "id": "c1c5f4e6",
   "metadata": {},
   "outputs": [
    {
     "data": {
      "text/plain": [
       "array([[   0,    0,    0,    0,    0,    0,    0,    0,    0,    0,    0,\n",
       "           0,    0,    0,    0,    0,    0,    0,    0,    0,    0,    0,\n",
       "           0,    0,    0,    0,    0,    0,    0,    0,    2,  800,   28,\n",
       "         881,   15, 4403, 2469, 4838,  716],\n",
       "       [   0,    0,    0,    0,    0,    0,    0,    0,    0,    0,    0,\n",
       "           0,    0,    0,    0,    0,    0,    0,    0,    0,    0,    0,\n",
       "           0,    0,    0,    0,    0,    0,    0,    0,    0,    0,  135,\n",
       "         969, 2470,   13,   49,   64,  486],\n",
       "       [   0,    0,    0,    0,    0,    0,    0,    0,    0,    0,    0,\n",
       "           0,    0,    0,    0,    0,    0,    0,    0,    0,    0,    0,\n",
       "           0,    0,    0,    0,    0,    0, 2060, 1168,  128,  677,   43,\n",
       "          13,  620,    5,  464, 1188,   94],\n",
       "       [   0,    0,    0,    0,    0,    0,    0,    0,    0,    0,    0,\n",
       "           0,    0,    0,    0,    0,    0,    0,    0,    0,    0,    0,\n",
       "           0,    0,    0,    0,    0,    0,    0,  169, 2641,  224,    3,\n",
       "         589,   15,  118,   66,    7, 1286],\n",
       "       [   0,    0,    0,    0,    0,    0,    0,    0,    0,    0,    0,\n",
       "           0,    0,    0,    0,    0,    0,    0,    0,    0, 2027,   29,\n",
       "          14,    3,    6,    8, 4195,    5,   54,  717,   12,   11,   40,\n",
       "         219,  435,   79,    1,  207,    4]], dtype=int32)"
      ]
     },
     "execution_count": 12,
     "metadata": {},
     "output_type": "execute_result"
    }
   ],
   "source": [
    "X = pad_sequences(X) # padding our text vector so they all have the same length\n",
    "X[:5]"
   ]
  },
  {
   "cell_type": "code",
   "execution_count": 13,
   "id": "0ffe7c3f",
   "metadata": {},
   "outputs": [],
   "source": [
    "model = Sequential()\n",
    "model.add(Embedding(5000, 256, input_length=X.shape[1]))\n",
    "model.add(Dropout(0.5))\n",
    "model.add(LSTM(256, return_sequences=True, dropout=0.3, recurrent_dropout=0.2))\n",
    "model.add(Dropout(0.5))\n",
    "model.add(LSTM(256, dropout=0.3, recurrent_dropout=0.2))\n",
    "model.add(Dropout(0.5))\n",
    "model.add(Dense(2, activation='softmax'))"
   ]
  },
  {
   "cell_type": "code",
   "execution_count": 14,
   "id": "d07ff75d",
   "metadata": {},
   "outputs": [
    {
     "name": "stdout",
     "output_type": "stream",
     "text": [
      "Model: \"sequential\"\n",
      "_________________________________________________________________\n",
      "Layer (type)                 Output Shape              Param #   \n",
      "=================================================================\n",
      "embedding (Embedding)        (None, 39, 256)           1280000   \n",
      "_________________________________________________________________\n",
      "dropout (Dropout)            (None, 39, 256)           0         \n",
      "_________________________________________________________________\n",
      "lstm (LSTM)                  (None, 39, 256)           525312    \n",
      "_________________________________________________________________\n",
      "dropout_1 (Dropout)          (None, 39, 256)           0         \n",
      "_________________________________________________________________\n",
      "lstm_1 (LSTM)                (None, 256)               525312    \n",
      "_________________________________________________________________\n",
      "dropout_2 (Dropout)          (None, 256)               0         \n",
      "_________________________________________________________________\n",
      "dense (Dense)                (None, 2)                 514       \n",
      "=================================================================\n",
      "Total params: 2,331,138\n",
      "Trainable params: 2,331,138\n",
      "Non-trainable params: 0\n",
      "_________________________________________________________________\n"
     ]
    }
   ],
   "source": [
    "model.compile(loss='categorical_crossentropy', optimizer='adam', metrics=['accuracy'])\n",
    "model.summary()"
   ]
  },
  {
   "cell_type": "code",
   "execution_count": 15,
   "id": "87fb9c5b",
   "metadata": {},
   "outputs": [],
   "source": [
    "y = pd.get_dummies(df['class']).values"
   ]
  },
  {
   "cell_type": "code",
   "execution_count": null,
   "id": "4ec5e249",
   "metadata": {},
   "outputs": [],
   "source": []
  },
  {
   "cell_type": "code",
   "execution_count": 16,
   "id": "2168cf05",
   "metadata": {},
   "outputs": [],
   "source": [
    "X_train, X_test, y_train, y_test = train_test_split(X, y, test_size=0.2, random_state=0)\n"
   ]
  },
  {
   "cell_type": "code",
   "execution_count": null,
   "id": "791ccd50",
   "metadata": {},
   "outputs": [],
   "source": []
  },
  {
   "cell_type": "code",
   "execution_count": 17,
   "id": "c3a0fb3f",
   "metadata": {},
   "outputs": [
    {
     "name": "stdout",
     "output_type": "stream",
     "text": [
      "Epoch 1/5\n",
      "562/562 [==============================] - 230s 378ms/step - loss: 0.2536 - accuracy: 0.8837 - val_loss: 0.1054 - val_accuracy: 0.9622\n",
      "Epoch 2/5\n",
      "562/562 [==============================] - 227s 405ms/step - loss: 0.0849 - accuracy: 0.9692 - val_loss: 0.0937 - val_accuracy: 0.9655\n",
      "Epoch 3/5\n",
      "562/562 [==============================] - 216s 385ms/step - loss: 0.0581 - accuracy: 0.9789 - val_loss: 0.0976 - val_accuracy: 0.9638\n",
      "Epoch 4/5\n",
      "562/562 [==============================] - 230s 409ms/step - loss: 0.0403 - accuracy: 0.9862 - val_loss: 0.1113 - val_accuracy: 0.9655\n",
      "Epoch 5/5\n",
      "562/562 [==============================] - 235s 419ms/step - loss: 0.0318 - accuracy: 0.9889 - val_loss: 0.1078 - val_accuracy: 0.9636\n"
     ]
    }
   ],
   "source": [
    "batch_size = 64\n",
    "epochs = 5\n",
    "\n",
    "history = model.fit(X_train, y_train, epochs=epochs, batch_size=batch_size,validation_data=(X_test,y_test))"
   ]
  },
  {
   "cell_type": "code",
   "execution_count": 21,
   "id": "82e990c5",
   "metadata": {},
   "outputs": [],
   "source": [
    "import matplotlib.pyplot as plt \n",
    "\n",
    "def plot_graph(history, metric):\n",
    "    plt.plot(history.history[metric])\n",
    "    plt.plot(history.history['val_' +metric], '')\n",
    "    plt.xlabel(\"Epochs\")\n",
    "    plt.ylabel(metric)\n",
    "    plt.legend([metric, 'val_'+metric])"
   ]
  },
  {
   "cell_type": "code",
   "execution_count": 22,
   "id": "48ea4208",
   "metadata": {},
   "outputs": [
    {
     "data": {
      "text/plain": [
       "(0.0, 0.16829153280705214)"
      ]
     },
     "execution_count": 22,
     "metadata": {},
     "output_type": "execute_result"
    },
    {
     "data": {
      "image/png": "[encoded data removed]",
      "text/plain": [
       "<Figure size 1152x576 with 2 Axes>"
      ]
     },
     "metadata": {
      "needs_background": "light"
     },
     "output_type": "display_data"
    }
   ],
   "source": [
    "plt.figure(figsize=(16, 8))\n",
    "plt.subplot(1, 2, 1)\n",
    "plot_graph(history, 'accuracy')\n",
    "plt.ylim(None, 1)\n",
    "plt.subplot(1, 2, 2)\n",
    "plot_graph(history, 'loss')\n",
    "plt.ylim(0, None)"
   ]
  },
  {
   "cell_type": "code",
   "execution_count": 23,
   "id": "edbe6207",
   "metadata": {},
   "outputs": [],
   "source": [
    "model.save('fake_news_detedctor.h5')"
   ]
  },
  {
   "cell_type": "code",
   "execution_count": 185,
   "id": "ef33d6e9",
   "metadata": {},
   "outputs": [],
   "source": [
    "x = 'south koreas moon says north korea missile capability seems improved'\n",
    "# x = 'trump loses his sht after nordstrom stops peddling ivankas shtty product line'\n",
    "# x = 'Rahul won the election by 2 votes'\n",
    "x = get_clean(x)\n",
    "tokenizer.fit_on_texts(x)"
   ]
  },
  {
   "cell_type": "code",
   "execution_count": 186,
   "id": "dc2a54e6",
   "metadata": {},
   "outputs": [],
   "source": [
    "x = tokenizer.texts_to_sequences(x[:])"
   ]
  },
  {
   "cell_type": "code",
   "execution_count": 187,
   "id": "eaaf7353",
   "metadata": {},
   "outputs": [],
   "source": [
    "X = pad_sequences(x)"
   ]
  },
  {
   "cell_type": "code",
   "execution_count": 188,
   "id": "6273a495",
   "metadata": {},
   "outputs": [
    {
     "data": {
      "text/plain": [
       "array([ 942, 1217, 3059, 1567, 2720,    0, 1088, 1217, 1928, 1426,   10,\n",
       "        942,    0, 2538, 1217, 1217, 2065,    0,  942,   10, 3354,  942,\n",
       "          0, 2065, 1217, 1928, 1567, 2720,    0, 1088, 1217, 1928, 1426,\n",
       "         10,    0, 2538,  117,  942,  942,  117, 2413, 1426,    0, 3449,\n",
       "         10, 3060,   10, 3740,  117, 2413,  117, 1567, 3354,    0,  942,\n",
       "       1426, 1426, 2538,  942,    0,  117, 2538, 3060, 1928, 1217, 4957,\n",
       "       1426, 3117], dtype=int32)"
      ]
     },
     "execution_count": 188,
     "metadata": {},
     "output_type": "execute_result"
    }
   ],
   "source": [
    "X = X.reshape(-1)\n",
    "X"
   ]
  },
  {
   "cell_type": "code",
   "execution_count": 189,
   "id": "72684638",
   "metadata": {},
   "outputs": [],
   "source": [
    "pred = model.predict_classes(X)"
   ]
  },
  {
   "cell_type": "code",
   "execution_count": 190,
   "id": "3da12a88",
   "metadata": {
    "scrolled": true
   },
   "outputs": [
    {
     "data": {
      "text/plain": [
       "array([0, 1, 1, 1, 0, 0, 0, 1, 1, 0, 0, 0, 0, 0, 1, 1, 1, 0, 0, 0, 0, 0,\n",
       "       0, 1, 1, 1, 1, 0, 0, 0, 1, 1, 0, 0, 0, 0, 0, 0, 0, 0, 0, 0, 0, 1,\n",
       "       0, 0, 0, 0, 0, 0, 0, 1, 0, 0, 0, 0, 0, 0, 0, 0, 0, 0, 0, 1, 1, 0,\n",
       "       0, 0])"
      ]
     },
     "execution_count": 190,
     "metadata": {},
     "output_type": "execute_result"
    }
   ],
   "source": [
    "pred"
   ]
  },
  {
   "cell_type": "code",
   "execution_count": 191,
   "id": "db579b00",
   "metadata": {},
   "outputs": [
    {
     "data": {
      "text/plain": [
       "1"
      ]
     },
     "execution_count": 191,
     "metadata": {},
     "output_type": "execute_result"
    }
   ],
   "source": [
    "pred = np.argmax(pred)\n",
    "pred"
   ]
  }
 ],
 "metadata": {
  "kernelspec": {
   "display_name": "pt-venv",
   "language": "python",
   "name": "pt-venv"
  },
  "language_info": {
   "codemirror_mode": {
    "name": "ipython",
    "version": 3
   },
   "file_extension": ".py",
   "mimetype": "text/x-python",
   "name": "python",
   "nbconvert_exporter": "python",
   "pygments_lexer": "ipython3",
   "version": "3.8.10"
  }
 },
 "nbformat": 4,
 "nbformat_minor": 5
}
